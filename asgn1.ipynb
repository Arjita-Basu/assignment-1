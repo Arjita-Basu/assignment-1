{
 "cells": [
  {
   "cell_type": "markdown",
   "metadata": {},
   "source": [
    "For this assignment,data set giving us the world happiness report by analysing various categories for three years 2015,16&17(i.e.3 different csv files) has been used. "
   ]
  },
  {
   "cell_type": "code",
   "execution_count": 36,
   "metadata": {},
   "outputs": [
    {
     "data": {
      "text/html": [
       "<div>\n",
       "<style scoped>\n",
       "    .dataframe tbody tr th:only-of-type {\n",
       "        vertical-align: middle;\n",
       "    }\n",
       "\n",
       "    .dataframe tbody tr th {\n",
       "        vertical-align: top;\n",
       "    }\n",
       "\n",
       "    .dataframe thead th {\n",
       "        text-align: right;\n",
       "    }\n",
       "</style>\n",
       "<table border=\"1\" class=\"dataframe\">\n",
       "  <thead>\n",
       "    <tr style=\"text-align: right;\">\n",
       "      <th></th>\n",
       "      <th>Country</th>\n",
       "      <th>Happiness Rank</th>\n",
       "      <th>Happiness Score</th>\n",
       "    </tr>\n",
       "  </thead>\n",
       "  <tbody>\n",
       "    <tr>\n",
       "      <th>0</th>\n",
       "      <td>Switzerland</td>\n",
       "      <td>1</td>\n",
       "      <td>7.587</td>\n",
       "    </tr>\n",
       "    <tr>\n",
       "      <th>1</th>\n",
       "      <td>Iceland</td>\n",
       "      <td>2</td>\n",
       "      <td>7.561</td>\n",
       "    </tr>\n",
       "    <tr>\n",
       "      <th>2</th>\n",
       "      <td>Denmark</td>\n",
       "      <td>3</td>\n",
       "      <td>7.527</td>\n",
       "    </tr>\n",
       "    <tr>\n",
       "      <th>3</th>\n",
       "      <td>Norway</td>\n",
       "      <td>4</td>\n",
       "      <td>7.522</td>\n",
       "    </tr>\n",
       "    <tr>\n",
       "      <th>4</th>\n",
       "      <td>Canada</td>\n",
       "      <td>5</td>\n",
       "      <td>7.427</td>\n",
       "    </tr>\n",
       "  </tbody>\n",
       "</table>\n",
       "</div>"
      ],
      "text/plain": [
       "       Country  Happiness Rank  Happiness Score\n",
       "0  Switzerland               1            7.587\n",
       "1      Iceland               2            7.561\n",
       "2      Denmark               3            7.527\n",
       "3       Norway               4            7.522\n",
       "4       Canada               5            7.427"
      ]
     },
     "execution_count": 36,
     "metadata": {},
     "output_type": "execute_result"
    }
   ],
   "source": [
    "#top 5 countries according to thier happiness rank in 2015\n",
    "import pandas as pd\n",
    "df1=pd.read_csv(\"E:/2015.csv\")\n",
    "#eliminating columns which are not essential here\n",
    "df11=df1.drop([\"Standard Error\", \"Region\", \"Economy (GDP per Capita)\", \"Family\", \"Health (Life Expectancy)\", \"Freedom\", \"Trust (Government Corruption)\", \"Generosity\", \"Dystopia Residual\"], axis=1)\n",
    "df11.head()\n"
   ]
  },
  {
   "cell_type": "code",
   "execution_count": 3,
   "metadata": {},
   "outputs": [
    {
     "data": {
      "text/html": [
       "<div>\n",
       "<style scoped>\n",
       "    .dataframe tbody tr th:only-of-type {\n",
       "        vertical-align: middle;\n",
       "    }\n",
       "\n",
       "    .dataframe tbody tr th {\n",
       "        vertical-align: top;\n",
       "    }\n",
       "\n",
       "    .dataframe thead th {\n",
       "        text-align: right;\n",
       "    }\n",
       "</style>\n",
       "<table border=\"1\" class=\"dataframe\">\n",
       "  <thead>\n",
       "    <tr style=\"text-align: right;\">\n",
       "      <th></th>\n",
       "      <th>Country</th>\n",
       "      <th>Happiness Rank</th>\n",
       "      <th>Happiness Score</th>\n",
       "    </tr>\n",
       "  </thead>\n",
       "  <tbody>\n",
       "    <tr>\n",
       "      <th>0</th>\n",
       "      <td>Denmark</td>\n",
       "      <td>1</td>\n",
       "      <td>7.526</td>\n",
       "    </tr>\n",
       "    <tr>\n",
       "      <th>1</th>\n",
       "      <td>Switzerland</td>\n",
       "      <td>2</td>\n",
       "      <td>7.509</td>\n",
       "    </tr>\n",
       "    <tr>\n",
       "      <th>2</th>\n",
       "      <td>Iceland</td>\n",
       "      <td>3</td>\n",
       "      <td>7.501</td>\n",
       "    </tr>\n",
       "    <tr>\n",
       "      <th>3</th>\n",
       "      <td>Norway</td>\n",
       "      <td>4</td>\n",
       "      <td>7.498</td>\n",
       "    </tr>\n",
       "    <tr>\n",
       "      <th>4</th>\n",
       "      <td>Finland</td>\n",
       "      <td>5</td>\n",
       "      <td>7.413</td>\n",
       "    </tr>\n",
       "  </tbody>\n",
       "</table>\n",
       "</div>"
      ],
      "text/plain": [
       "       Country  Happiness Rank  Happiness Score\n",
       "0      Denmark               1            7.526\n",
       "1  Switzerland               2            7.509\n",
       "2      Iceland               3            7.501\n",
       "3       Norway               4            7.498\n",
       "4      Finland               5            7.413"
      ]
     },
     "execution_count": 3,
     "metadata": {},
     "output_type": "execute_result"
    }
   ],
   "source": [
    "#top 5 countries according to thier happiness rank in 2016\n",
    "import pandas as pd\n",
    "df2=pd.read_csv('E:/2016.csv')\n",
    "#eliminating columns which are not essential here\n",
    "df22=df2.drop([\"Region\", \"Lower Confidence Interval\", \"Upper Confidence Interval\", \"Economy (GDP per Capita)\", \"Family\", \"Health (Life Expectancy)\", \"Freedom\", \"Trust (Government Corruption)\", \"Generosity\", \"Dystopia Residual\"], axis=1)\n",
    "df22.head()\n"
   ]
  },
  {
   "cell_type": "code",
   "execution_count": 4,
   "metadata": {},
   "outputs": [
    {
     "data": {
      "text/html": [
       "<div>\n",
       "<style scoped>\n",
       "    .dataframe tbody tr th:only-of-type {\n",
       "        vertical-align: middle;\n",
       "    }\n",
       "\n",
       "    .dataframe tbody tr th {\n",
       "        vertical-align: top;\n",
       "    }\n",
       "\n",
       "    .dataframe thead th {\n",
       "        text-align: right;\n",
       "    }\n",
       "</style>\n",
       "<table border=\"1\" class=\"dataframe\">\n",
       "  <thead>\n",
       "    <tr style=\"text-align: right;\">\n",
       "      <th></th>\n",
       "      <th>Country</th>\n",
       "      <th>Happiness.Rank</th>\n",
       "      <th>Happiness.Score</th>\n",
       "    </tr>\n",
       "  </thead>\n",
       "  <tbody>\n",
       "    <tr>\n",
       "      <th>0</th>\n",
       "      <td>Norway</td>\n",
       "      <td>1</td>\n",
       "      <td>7.537</td>\n",
       "    </tr>\n",
       "    <tr>\n",
       "      <th>1</th>\n",
       "      <td>Denmark</td>\n",
       "      <td>2</td>\n",
       "      <td>7.522</td>\n",
       "    </tr>\n",
       "    <tr>\n",
       "      <th>2</th>\n",
       "      <td>Iceland</td>\n",
       "      <td>3</td>\n",
       "      <td>7.504</td>\n",
       "    </tr>\n",
       "    <tr>\n",
       "      <th>3</th>\n",
       "      <td>Switzerland</td>\n",
       "      <td>4</td>\n",
       "      <td>7.494</td>\n",
       "    </tr>\n",
       "    <tr>\n",
       "      <th>4</th>\n",
       "      <td>Finland</td>\n",
       "      <td>5</td>\n",
       "      <td>7.469</td>\n",
       "    </tr>\n",
       "  </tbody>\n",
       "</table>\n",
       "</div>"
      ],
      "text/plain": [
       "       Country  Happiness.Rank  Happiness.Score\n",
       "0       Norway               1            7.537\n",
       "1      Denmark               2            7.522\n",
       "2      Iceland               3            7.504\n",
       "3  Switzerland               4            7.494\n",
       "4      Finland               5            7.469"
      ]
     },
     "execution_count": 4,
     "metadata": {},
     "output_type": "execute_result"
    }
   ],
   "source": [
    "#top 5 countries according to thier happiness rank in 2017\n",
    "import pandas as pd\n",
    "df3=pd.read_csv('E:/2017.csv')\n",
    "#eliminating columns which are not essential here\n",
    "df33=df3.drop([\"Whisker.high\", \"Whisker.low\", \"Economy..GDP.per.Capita.\", \"Family\", \"Health..Life.Expectancy.\", \"Freedom\", \"Trust..Government.Corruption.\", \"Generosity\", \"Dystopia.Residual\"], axis=1)\n",
    "df33.head()\n"
   ]
  },
  {
   "cell_type": "markdown",
   "metadata": {},
   "source": [
    "From the above three tables, we can observe that the position of the top 5 happiest countries has been consistently held by the Nordic countries(except Sweden)and Switzerland. "
   ]
  },
  {
   "cell_type": "markdown",
   "metadata": {},
   "source": [
    "Now let us study some important aspects from the most recent available data i.e. of 2017."
   ]
  },
  {
   "cell_type": "code",
   "execution_count": 5,
   "metadata": {},
   "outputs": [
    {
     "data": {
      "text/plain": [
       "Country                             Qatar\n",
       "Happiness.Rank                         35\n",
       "Happiness.Score                     6.375\n",
       "Whisker.high                      6.56848\n",
       "Whisker.low                       6.18152\n",
       "Economy..GDP.per.Capita.          1.87077\n",
       "Family                             1.2743\n",
       "Health..Life.Expectancy.         0.710098\n",
       "Freedom                          0.604131\n",
       "Generosity                       0.330474\n",
       "Trust..Government.Corruption.    0.439299\n",
       "Dystopia.Residual                 1.14546\n",
       "Name: 34, dtype: object"
      ]
     },
     "execution_count": 5,
     "metadata": {},
     "output_type": "execute_result"
    }
   ],
   "source": [
    "#country with highest economy acc to the study\n",
    "x=df3['Economy..GDP.per.Capita.'].idxmax()\n",
    "df3.iloc[x]\n"
   ]
  },
  {
   "cell_type": "markdown",
   "metadata": {},
   "source": [
    "The country with the highest GDP per capita is Qatar."
   ]
  },
  {
   "cell_type": "code",
   "execution_count": 6,
   "metadata": {},
   "outputs": [
    {
     "data": {
      "text/plain": [
       "Country                          Singapore\n",
       "Happiness.Rank                          26\n",
       "Happiness.Score                      6.572\n",
       "Whisker.high                       6.63672\n",
       "Whisker.low                        6.50728\n",
       "Economy..GDP.per.Capita.           1.69228\n",
       "Family                             1.35381\n",
       "Health..Life.Expectancy.          0.949492\n",
       "Freedom                           0.549841\n",
       "Generosity                        0.345966\n",
       "Trust..Government.Corruption.     0.464308\n",
       "Dystopia.Residual                  1.21636\n",
       "Name: 25, dtype: object"
      ]
     },
     "execution_count": 6,
     "metadata": {},
     "output_type": "execute_result"
    }
   ],
   "source": [
    "#country with highest life expectancy\n",
    "y=df3['Health..Life.Expectancy.'].idxmax()\n",
    "df3.iloc[y]\n"
   ]
  },
  {
   "cell_type": "markdown",
   "metadata": {},
   "source": [
    "The country with the highest life expectancy is Singapore."
   ]
  },
  {
   "cell_type": "code",
   "execution_count": 7,
   "metadata": {},
   "outputs": [
    {
     "data": {
      "text/plain": [
       "Country                          Uzbekistan\n",
       "Happiness.Rank                           47\n",
       "Happiness.Score                       5.971\n",
       "Whisker.high                        6.06554\n",
       "Whisker.low                         5.87646\n",
       "Economy..GDP.per.Capita.           0.786441\n",
       "Family                              1.54897\n",
       "Health..Life.Expectancy.           0.498273\n",
       "Freedom                            0.658249\n",
       "Generosity                         0.415984\n",
       "Trust..Government.Corruption.      0.246528\n",
       "Dystopia.Residual                   1.81691\n",
       "Name: 46, dtype: object"
      ]
     },
     "execution_count": 7,
     "metadata": {},
     "output_type": "execute_result"
    }
   ],
   "source": [
    "#country with the highest sense of freedom\n",
    "z=df3['Freedom'].idxmax()\n",
    "df3.iloc[z]\n"
   ]
  },
  {
   "cell_type": "markdown",
   "metadata": {},
   "source": [
    "The country whose population has the highest sense of freedom is Uzbekistan."
   ]
  },
  {
   "cell_type": "code",
   "execution_count": 8,
   "metadata": {},
   "outputs": [
    {
     "data": {
      "text/plain": [
       "Country                           Myanmar\n",
       "Happiness.Rank                        114\n",
       "Happiness.Score                     4.545\n",
       "Whisker.high                      4.61474\n",
       "Whisker.low                       4.47526\n",
       "Economy..GDP.per.Capita.         0.367111\n",
       "Family                            1.12324\n",
       "Health..Life.Expectancy.         0.397523\n",
       "Freedom                          0.514492\n",
       "Generosity                       0.838075\n",
       "Trust..Government.Corruption.    0.188816\n",
       "Dystopia.Residual                 1.11529\n",
       "Name: 113, dtype: object"
      ]
     },
     "execution_count": 8,
     "metadata": {},
     "output_type": "execute_result"
    }
   ],
   "source": [
    "#country where people are most generous\n",
    "a=df3['Generosity'].idxmax()\n",
    "df3.iloc[a]\n"
   ]
  },
  {
   "cell_type": "markdown",
   "metadata": {},
   "source": [
    "The country whose population is most generous is Myanmar."
   ]
  },
  {
   "cell_type": "code",
   "execution_count": 9,
   "metadata": {},
   "outputs": [
    {
     "data": {
      "text/plain": [
       "Country                          Singapore\n",
       "Happiness.Rank                          26\n",
       "Happiness.Score                      6.572\n",
       "Whisker.high                       6.63672\n",
       "Whisker.low                        6.50728\n",
       "Economy..GDP.per.Capita.           1.69228\n",
       "Family                             1.35381\n",
       "Health..Life.Expectancy.          0.949492\n",
       "Freedom                           0.549841\n",
       "Generosity                        0.345966\n",
       "Trust..Government.Corruption.     0.464308\n",
       "Dystopia.Residual                  1.21636\n",
       "Name: 25, dtype: object"
      ]
     },
     "execution_count": 9,
     "metadata": {},
     "output_type": "execute_result"
    }
   ],
   "source": [
    "#country with highest trust in government(against corruption)\n",
    "b=df3['Trust..Government.Corruption.'].idxmax()\n",
    "df3.iloc[b]\n"
   ]
  },
  {
   "cell_type": "markdown",
   "metadata": {},
   "source": [
    "The country whose population has the highest trust in the Government is Singapore."
   ]
  },
  {
   "cell_type": "markdown",
   "metadata": {},
   "source": [
    "Now let us study the data specific to our country, India."
   ]
  },
  {
   "cell_type": "code",
   "execution_count": 10,
   "metadata": {},
   "outputs": [
    {
     "data": {
      "text/html": [
       "<div>\n",
       "<style scoped>\n",
       "    .dataframe tbody tr th:only-of-type {\n",
       "        vertical-align: middle;\n",
       "    }\n",
       "\n",
       "    .dataframe tbody tr th {\n",
       "        vertical-align: top;\n",
       "    }\n",
       "\n",
       "    .dataframe thead th {\n",
       "        text-align: right;\n",
       "    }\n",
       "</style>\n",
       "<table border=\"1\" class=\"dataframe\">\n",
       "  <thead>\n",
       "    <tr style=\"text-align: right;\">\n",
       "      <th></th>\n",
       "      <th>Country</th>\n",
       "      <th>Happiness Rank</th>\n",
       "      <th>Economy (GDP per Capita)</th>\n",
       "      <th>Health (Life Expectancy)</th>\n",
       "      <th>Freedom</th>\n",
       "      <th>Trust (Government Corruption)</th>\n",
       "    </tr>\n",
       "  </thead>\n",
       "  <tbody>\n",
       "    <tr>\n",
       "      <th>116</th>\n",
       "      <td>India</td>\n",
       "      <td>117</td>\n",
       "      <td>0.64499</td>\n",
       "      <td>0.51529</td>\n",
       "      <td>0.39786</td>\n",
       "      <td>0.08492</td>\n",
       "    </tr>\n",
       "  </tbody>\n",
       "</table>\n",
       "</div>"
      ],
      "text/plain": [
       "    Country  Happiness Rank  Economy (GDP per Capita)  \\\n",
       "116   India             117                   0.64499   \n",
       "\n",
       "     Health (Life Expectancy)  Freedom  Trust (Government Corruption)  \n",
       "116                   0.51529  0.39786                        0.08492  "
      ]
     },
     "execution_count": 10,
     "metadata": {},
     "output_type": "execute_result"
    }
   ],
   "source": [
    "#India 2015\n",
    "dfI1=df1[df1['Country']=='India']\n",
    "dfa=dfI1.drop([\"Happiness Score\",\"Standard Error\", \"Region\", \"Family\",\"Generosity\", \"Dystopia Residual\"], axis=1)\n",
    "dfa\n"
   ]
  },
  {
   "cell_type": "code",
   "execution_count": 11,
   "metadata": {},
   "outputs": [
    {
     "data": {
      "text/html": [
       "<div>\n",
       "<style scoped>\n",
       "    .dataframe tbody tr th:only-of-type {\n",
       "        vertical-align: middle;\n",
       "    }\n",
       "\n",
       "    .dataframe tbody tr th {\n",
       "        vertical-align: top;\n",
       "    }\n",
       "\n",
       "    .dataframe thead th {\n",
       "        text-align: right;\n",
       "    }\n",
       "</style>\n",
       "<table border=\"1\" class=\"dataframe\">\n",
       "  <thead>\n",
       "    <tr style=\"text-align: right;\">\n",
       "      <th></th>\n",
       "      <th>Country</th>\n",
       "      <th>Happiness Rank</th>\n",
       "      <th>Economy (GDP per Capita)</th>\n",
       "      <th>Health (Life Expectancy)</th>\n",
       "      <th>Freedom</th>\n",
       "      <th>Trust (Government Corruption)</th>\n",
       "    </tr>\n",
       "  </thead>\n",
       "  <tbody>\n",
       "    <tr>\n",
       "      <th>117</th>\n",
       "      <td>India</td>\n",
       "      <td>118</td>\n",
       "      <td>0.74036</td>\n",
       "      <td>0.45091</td>\n",
       "      <td>0.40285</td>\n",
       "      <td>0.08722</td>\n",
       "    </tr>\n",
       "  </tbody>\n",
       "</table>\n",
       "</div>"
      ],
      "text/plain": [
       "    Country  Happiness Rank  Economy (GDP per Capita)  \\\n",
       "117   India             118                   0.74036   \n",
       "\n",
       "     Health (Life Expectancy)  Freedom  Trust (Government Corruption)  \n",
       "117                   0.45091  0.40285                        0.08722  "
      ]
     },
     "execution_count": 11,
     "metadata": {},
     "output_type": "execute_result"
    }
   ],
   "source": [
    "#India 2016\n",
    "dfI2=df2[df2['Country']=='India']\n",
    "dfb=dfI2.drop([\"Happiness Score\",\"Region\", \"Lower Confidence Interval\", \"Upper Confidence Interval\", \"Family\",\"Generosity\", \"Dystopia Residual\"], axis=1)\n",
    "dfb\n"
   ]
  },
  {
   "cell_type": "code",
   "execution_count": 12,
   "metadata": {},
   "outputs": [
    {
     "data": {
      "text/html": [
       "<div>\n",
       "<style scoped>\n",
       "    .dataframe tbody tr th:only-of-type {\n",
       "        vertical-align: middle;\n",
       "    }\n",
       "\n",
       "    .dataframe tbody tr th {\n",
       "        vertical-align: top;\n",
       "    }\n",
       "\n",
       "    .dataframe thead th {\n",
       "        text-align: right;\n",
       "    }\n",
       "</style>\n",
       "<table border=\"1\" class=\"dataframe\">\n",
       "  <thead>\n",
       "    <tr style=\"text-align: right;\">\n",
       "      <th></th>\n",
       "      <th>Country</th>\n",
       "      <th>Happiness.Rank</th>\n",
       "      <th>Economy..GDP.per.Capita.</th>\n",
       "      <th>Health..Life.Expectancy.</th>\n",
       "      <th>Freedom</th>\n",
       "      <th>Trust..Government.Corruption.</th>\n",
       "    </tr>\n",
       "  </thead>\n",
       "  <tbody>\n",
       "    <tr>\n",
       "      <th>121</th>\n",
       "      <td>India</td>\n",
       "      <td>122</td>\n",
       "      <td>0.792221</td>\n",
       "      <td>0.455428</td>\n",
       "      <td>0.469987</td>\n",
       "      <td>0.092227</td>\n",
       "    </tr>\n",
       "  </tbody>\n",
       "</table>\n",
       "</div>"
      ],
      "text/plain": [
       "    Country  Happiness.Rank  Economy..GDP.per.Capita.  \\\n",
       "121   India             122                  0.792221   \n",
       "\n",
       "     Health..Life.Expectancy.   Freedom  Trust..Government.Corruption.  \n",
       "121                  0.455428  0.469987                       0.092227  "
      ]
     },
     "execution_count": 12,
     "metadata": {},
     "output_type": "execute_result"
    }
   ],
   "source": [
    "#India 2017\n",
    "dfI3=df3[df3['Country']=='India']\n",
    "dfc=dfI3.drop([\"Happiness.Score\",\"Whisker.high\", \"Whisker.low\", \"Family\",\"Generosity\", \"Dystopia.Residual\"], axis=1)\n",
    "dfc\n"
   ]
  },
  {
   "cell_type": "code",
   "execution_count": 13,
   "metadata": {},
   "outputs": [
    {
     "data": {
      "text/html": [
       "<div>\n",
       "<style scoped>\n",
       "    .dataframe tbody tr th:only-of-type {\n",
       "        vertical-align: middle;\n",
       "    }\n",
       "\n",
       "    .dataframe tbody tr th {\n",
       "        vertical-align: top;\n",
       "    }\n",
       "\n",
       "    .dataframe thead th {\n",
       "        text-align: right;\n",
       "    }\n",
       "</style>\n",
       "<table border=\"1\" class=\"dataframe\">\n",
       "  <thead>\n",
       "    <tr style=\"text-align: right;\">\n",
       "      <th></th>\n",
       "      <th>Country</th>\n",
       "      <th>Happiness Rank</th>\n",
       "      <th>Economy (GDP per Capita)</th>\n",
       "      <th>Health (Life Expectancy)</th>\n",
       "      <th>Freedom</th>\n",
       "      <th>Trust (Government Corruption)</th>\n",
       "    </tr>\n",
       "  </thead>\n",
       "  <tbody>\n",
       "    <tr>\n",
       "      <th>121</th>\n",
       "      <td>India</td>\n",
       "      <td>122</td>\n",
       "      <td>0.792221</td>\n",
       "      <td>0.455428</td>\n",
       "      <td>0.469987</td>\n",
       "      <td>0.092227</td>\n",
       "    </tr>\n",
       "  </tbody>\n",
       "</table>\n",
       "</div>"
      ],
      "text/plain": [
       "    Country  Happiness Rank  Economy (GDP per Capita)  \\\n",
       "121   India             122                  0.792221   \n",
       "\n",
       "     Health (Life Expectancy)   Freedom  Trust (Government Corruption)  \n",
       "121                  0.455428  0.469987                       0.092227  "
      ]
     },
     "execution_count": 13,
     "metadata": {},
     "output_type": "execute_result"
    }
   ],
   "source": [
    "#lets make table heading proper for 2017\n",
    "dfC = dfc.rename(columns={'Happiness.Rank': 'Happiness Rank', 'Economy..GDP.per.Capita.':'Economy (GDP per Capita)' , 'Health..Life.Expectancy.':'Health (Life Expectancy)', 'Trust..Government.Corruption.':'Trust (Government Corruption)'})\n",
    "dfC"
   ]
  },
  {
   "cell_type": "code",
   "execution_count": 14,
   "metadata": {
    "scrolled": true
   },
   "outputs": [
    {
     "data": {
      "text/html": [
       "<div>\n",
       "<style scoped>\n",
       "    .dataframe tbody tr th:only-of-type {\n",
       "        vertical-align: middle;\n",
       "    }\n",
       "\n",
       "    .dataframe tbody tr th {\n",
       "        vertical-align: top;\n",
       "    }\n",
       "\n",
       "    .dataframe thead th {\n",
       "        text-align: right;\n",
       "    }\n",
       "</style>\n",
       "<table border=\"1\" class=\"dataframe\">\n",
       "  <thead>\n",
       "    <tr style=\"text-align: right;\">\n",
       "      <th></th>\n",
       "      <th>Country</th>\n",
       "      <th>Happiness Rank</th>\n",
       "      <th>Economy (GDP per Capita)</th>\n",
       "      <th>Health (Life Expectancy)</th>\n",
       "      <th>Freedom</th>\n",
       "      <th>Trust (Government Corruption)</th>\n",
       "    </tr>\n",
       "  </thead>\n",
       "  <tbody>\n",
       "    <tr>\n",
       "      <th>116</th>\n",
       "      <td>India</td>\n",
       "      <td>117</td>\n",
       "      <td>0.644990</td>\n",
       "      <td>0.515290</td>\n",
       "      <td>0.397860</td>\n",
       "      <td>0.084920</td>\n",
       "    </tr>\n",
       "    <tr>\n",
       "      <th>117</th>\n",
       "      <td>India</td>\n",
       "      <td>118</td>\n",
       "      <td>0.740360</td>\n",
       "      <td>0.450910</td>\n",
       "      <td>0.402850</td>\n",
       "      <td>0.087220</td>\n",
       "    </tr>\n",
       "    <tr>\n",
       "      <th>121</th>\n",
       "      <td>India</td>\n",
       "      <td>122</td>\n",
       "      <td>0.792221</td>\n",
       "      <td>0.455428</td>\n",
       "      <td>0.469987</td>\n",
       "      <td>0.092227</td>\n",
       "    </tr>\n",
       "  </tbody>\n",
       "</table>\n",
       "</div>"
      ],
      "text/plain": [
       "    Country  Happiness Rank  Economy (GDP per Capita)  \\\n",
       "116   India             117                  0.644990   \n",
       "117   India             118                  0.740360   \n",
       "121   India             122                  0.792221   \n",
       "\n",
       "     Health (Life Expectancy)   Freedom  Trust (Government Corruption)  \n",
       "116                  0.515290  0.397860                       0.084920  \n",
       "117                  0.450910  0.402850                       0.087220  \n",
       "121                  0.455428  0.469987                       0.092227  "
      ]
     },
     "execution_count": 14,
     "metadata": {},
     "output_type": "execute_result"
    }
   ],
   "source": [
    "#now concat the dataframes to get one new dataframe depicting various data for India in three years\n",
    "dfA=pd.concat([dfa,dfb,dfC])\n",
    "dfA"
   ]
  },
  {
   "cell_type": "code",
   "execution_count": null,
   "metadata": {},
   "outputs": [],
   "source": []
  },
  {
   "cell_type": "code",
   "execution_count": 15,
   "metadata": {},
   "outputs": [
    {
     "data": {
      "text/html": [
       "<div>\n",
       "<style scoped>\n",
       "    .dataframe tbody tr th:only-of-type {\n",
       "        vertical-align: middle;\n",
       "    }\n",
       "\n",
       "    .dataframe tbody tr th {\n",
       "        vertical-align: top;\n",
       "    }\n",
       "\n",
       "    .dataframe thead th {\n",
       "        text-align: right;\n",
       "    }\n",
       "</style>\n",
       "<table border=\"1\" class=\"dataframe\">\n",
       "  <thead>\n",
       "    <tr style=\"text-align: right;\">\n",
       "      <th></th>\n",
       "      <th>Country</th>\n",
       "      <th>Happiness Rank</th>\n",
       "      <th>Economy (GDP per Capita)</th>\n",
       "      <th>Health (Life Expectancy)</th>\n",
       "      <th>Freedom</th>\n",
       "      <th>Trust (Government Corruption)</th>\n",
       "    </tr>\n",
       "  </thead>\n",
       "  <tbody>\n",
       "    <tr>\n",
       "      <th>0</th>\n",
       "      <td>India</td>\n",
       "      <td>117</td>\n",
       "      <td>0.644990</td>\n",
       "      <td>0.515290</td>\n",
       "      <td>0.397860</td>\n",
       "      <td>0.084920</td>\n",
       "    </tr>\n",
       "    <tr>\n",
       "      <th>1</th>\n",
       "      <td>India</td>\n",
       "      <td>118</td>\n",
       "      <td>0.740360</td>\n",
       "      <td>0.450910</td>\n",
       "      <td>0.402850</td>\n",
       "      <td>0.087220</td>\n",
       "    </tr>\n",
       "    <tr>\n",
       "      <th>2</th>\n",
       "      <td>India</td>\n",
       "      <td>122</td>\n",
       "      <td>0.792221</td>\n",
       "      <td>0.455428</td>\n",
       "      <td>0.469987</td>\n",
       "      <td>0.092227</td>\n",
       "    </tr>\n",
       "  </tbody>\n",
       "</table>\n",
       "</div>"
      ],
      "text/plain": [
       "  Country  Happiness Rank  Economy (GDP per Capita)  Health (Life Expectancy)  \\\n",
       "0   India             117                  0.644990                  0.515290   \n",
       "1   India             118                  0.740360                  0.450910   \n",
       "2   India             122                  0.792221                  0.455428   \n",
       "\n",
       "    Freedom  Trust (Government Corruption)  \n",
       "0  0.397860                       0.084920  \n",
       "1  0.402850                       0.087220  \n",
       "2  0.469987                       0.092227  "
      ]
     },
     "execution_count": 15,
     "metadata": {},
     "output_type": "execute_result"
    }
   ],
   "source": [
    "dfAA=dfA.reset_index(drop=True)\n",
    "dfAA"
   ]
  },
  {
   "cell_type": "code",
   "execution_count": 16,
   "metadata": {
    "scrolled": true
   },
   "outputs": [
    {
     "data": {
      "text/html": [
       "<div>\n",
       "<style scoped>\n",
       "    .dataframe tbody tr th:only-of-type {\n",
       "        vertical-align: middle;\n",
       "    }\n",
       "\n",
       "    .dataframe tbody tr th {\n",
       "        vertical-align: top;\n",
       "    }\n",
       "\n",
       "    .dataframe thead th {\n",
       "        text-align: right;\n",
       "    }\n",
       "</style>\n",
       "<table border=\"1\" class=\"dataframe\">\n",
       "  <thead>\n",
       "    <tr style=\"text-align: right;\">\n",
       "      <th></th>\n",
       "      <th>Country</th>\n",
       "      <th>Happiness Rank</th>\n",
       "      <th>Economy (GDP per Capita)</th>\n",
       "      <th>Health (Life Expectancy)</th>\n",
       "      <th>Freedom</th>\n",
       "      <th>Trust (Government Corruption)</th>\n",
       "      <th>year</th>\n",
       "    </tr>\n",
       "  </thead>\n",
       "  <tbody>\n",
       "    <tr>\n",
       "      <th>0</th>\n",
       "      <td>India</td>\n",
       "      <td>117</td>\n",
       "      <td>0.644990</td>\n",
       "      <td>0.515290</td>\n",
       "      <td>0.397860</td>\n",
       "      <td>0.084920</td>\n",
       "      <td>2015</td>\n",
       "    </tr>\n",
       "    <tr>\n",
       "      <th>1</th>\n",
       "      <td>India</td>\n",
       "      <td>118</td>\n",
       "      <td>0.740360</td>\n",
       "      <td>0.450910</td>\n",
       "      <td>0.402850</td>\n",
       "      <td>0.087220</td>\n",
       "      <td>2016</td>\n",
       "    </tr>\n",
       "    <tr>\n",
       "      <th>2</th>\n",
       "      <td>India</td>\n",
       "      <td>122</td>\n",
       "      <td>0.792221</td>\n",
       "      <td>0.455428</td>\n",
       "      <td>0.469987</td>\n",
       "      <td>0.092227</td>\n",
       "      <td>2017</td>\n",
       "    </tr>\n",
       "  </tbody>\n",
       "</table>\n",
       "</div>"
      ],
      "text/plain": [
       "  Country  Happiness Rank  Economy (GDP per Capita)  Health (Life Expectancy)  \\\n",
       "0   India             117                  0.644990                  0.515290   \n",
       "1   India             118                  0.740360                  0.450910   \n",
       "2   India             122                  0.792221                  0.455428   \n",
       "\n",
       "    Freedom  Trust (Government Corruption)  year  \n",
       "0  0.397860                       0.084920  2015  \n",
       "1  0.402850                       0.087220  2016  \n",
       "2  0.469987                       0.092227  2017  "
      ]
     },
     "execution_count": 16,
     "metadata": {},
     "output_type": "execute_result"
    }
   ],
   "source": [
    "dfAA['year']=['2015','2016','2017']\n",
    "dfAA"
   ]
  },
  {
   "cell_type": "markdown",
   "metadata": {},
   "source": [
    "The table above is a clean table of important data corresponding to our country for the three years 2015,16&17.\n",
    "We are now going to study this table with the following visual representations."
   ]
  },
  {
   "cell_type": "code",
   "execution_count": 19,
   "metadata": {},
   "outputs": [
    {
     "data": {
      "image/png": "[encoded data removed]",
      "text/plain": [
       "<Figure size 432x288 with 1 Axes>"
      ]
     },
     "metadata": {
      "needs_background": "light"
     },
     "output_type": "display_data"
    }
   ],
   "source": [
    "import matplotlib.pyplot as plt\n",
    "dfAA.plot(kind='line',x='year',y='Happiness Rank',color='red')\n",
    "plt.show()"
   ]
  },
  {
   "cell_type": "markdown",
   "metadata": {},
   "source": [
    "Above plot is a line graph depicting the happiness rank of our country. It shows numeric increase which theoretically means that the happiness rank of our country has diminished in the three years."
   ]
  },
  {
   "cell_type": "code",
   "execution_count": 20,
   "metadata": {},
   "outputs": [
    {
     "data": {
      "image/png": "[encoded data removed]",
      "text/plain": [
       "<Figure size 432x288 with 1 Axes>"
      ]
     },
     "metadata": {
      "needs_background": "light"
     },
     "output_type": "display_data"
    }
   ],
   "source": [
    "dfAA.plot(kind='line',x='year',y='Economy (GDP per Capita)',color='blue')\n",
    "plt.show()"
   ]
  },
  {
   "cell_type": "markdown",
   "metadata": {},
   "source": [
    "Above plot is a line graph depicting the GDP per capita of our country. It shows an increasing trend which is a good thing for the country's economy."
   ]
  },
  {
   "cell_type": "code",
   "execution_count": 21,
   "metadata": {
    "scrolled": false
   },
   "outputs": [
    {
     "data": {
      "image/png": "[encoded data removed]",
      "text/plain": [
       "<Figure size 432x288 with 1 Axes>"
      ]
     },
     "metadata": {
      "needs_background": "light"
     },
     "output_type": "display_data"
    }
   ],
   "source": [
    "dfAA.plot(kind='line',x='year',y='Health (Life Expectancy)',color='green')\n",
    "plt.show()"
   ]
  },
  {
   "cell_type": "markdown",
   "metadata": {},
   "source": [
    "Above plot is a line graph representing the life expectancy of the population. It showed a steep decrease between 2015-16 and a gradual increase in 2016-17. This may depict the fluctuations in the healthcare sector of the country."
   ]
  },
  {
   "cell_type": "code",
   "execution_count": 22,
   "metadata": {},
   "outputs": [
    {
     "data": {
      "image/png": "[encoded data removed]",
      "text/plain": [
       "<Figure size 432x288 with 1 Axes>"
      ]
     },
     "metadata": {
      "needs_background": "light"
     },
     "output_type": "display_data"
    }
   ],
   "source": [
    "dfAA.plot(kind='line',x='year',y='Freedom',color='purple')\n",
    "plt.show()"
   ]
  },
  {
   "cell_type": "markdown",
   "metadata": {},
   "source": [
    "Above plot is a line graph representing the sense of freedom in the population. It shows an increasing trend in those three years and is a positive sign."
   ]
  },
  {
   "cell_type": "code",
   "execution_count": 23,
   "metadata": {},
   "outputs": [
    {
     "data": {
      "image/png": "[encoded data removed]",
      "text/plain": [
       "<Figure size 432x288 with 1 Axes>"
      ]
     },
     "metadata": {
      "needs_background": "light"
     },
     "output_type": "display_data"
    }
   ],
   "source": [
    "dfAA.plot(kind='line',x='year',y='Trust (Government Corruption)',color='orange')\n",
    "plt.show()"
   ]
  },
  {
   "cell_type": "markdown",
   "metadata": {},
   "source": [
    "Above plot is a line graph depicting the trust in government against corruption which shows an increasing trend and is a good sign."
   ]
  },
  {
   "cell_type": "markdown",
   "metadata": {},
   "source": [
    "Now let us study some available data of Southern Asia."
   ]
  },
  {
   "cell_type": "markdown",
   "metadata": {},
   "source": [
    "First we will study the data for 2015."
   ]
  },
  {
   "cell_type": "code",
   "execution_count": 29,
   "metadata": {
    "scrolled": true
   },
   "outputs": [
    {
     "data": {
      "text/html": [
       "<div>\n",
       "<style scoped>\n",
       "    .dataframe tbody tr th:only-of-type {\n",
       "        vertical-align: middle;\n",
       "    }\n",
       "\n",
       "    .dataframe tbody tr th {\n",
       "        vertical-align: top;\n",
       "    }\n",
       "\n",
       "    .dataframe thead th {\n",
       "        text-align: right;\n",
       "    }\n",
       "</style>\n",
       "<table border=\"1\" class=\"dataframe\">\n",
       "  <thead>\n",
       "    <tr style=\"text-align: right;\">\n",
       "      <th></th>\n",
       "      <th>Country</th>\n",
       "      <th>Region</th>\n",
       "      <th>Happiness Rank</th>\n",
       "    </tr>\n",
       "  </thead>\n",
       "  <tbody>\n",
       "    <tr>\n",
       "      <th>78</th>\n",
       "      <td>Bhutan</td>\n",
       "      <td>Southern Asia</td>\n",
       "      <td>79</td>\n",
       "    </tr>\n",
       "    <tr>\n",
       "      <th>80</th>\n",
       "      <td>Pakistan</td>\n",
       "      <td>Southern Asia</td>\n",
       "      <td>81</td>\n",
       "    </tr>\n",
       "    <tr>\n",
       "      <th>108</th>\n",
       "      <td>Bangladesh</td>\n",
       "      <td>Southern Asia</td>\n",
       "      <td>109</td>\n",
       "    </tr>\n",
       "    <tr>\n",
       "      <th>116</th>\n",
       "      <td>India</td>\n",
       "      <td>Southern Asia</td>\n",
       "      <td>117</td>\n",
       "    </tr>\n",
       "    <tr>\n",
       "      <th>120</th>\n",
       "      <td>Nepal</td>\n",
       "      <td>Southern Asia</td>\n",
       "      <td>121</td>\n",
       "    </tr>\n",
       "    <tr>\n",
       "      <th>131</th>\n",
       "      <td>Sri Lanka</td>\n",
       "      <td>Southern Asia</td>\n",
       "      <td>132</td>\n",
       "    </tr>\n",
       "    <tr>\n",
       "      <th>152</th>\n",
       "      <td>Afghanistan</td>\n",
       "      <td>Southern Asia</td>\n",
       "      <td>153</td>\n",
       "    </tr>\n",
       "  </tbody>\n",
       "</table>\n",
       "</div>"
      ],
      "text/plain": [
       "         Country         Region  Happiness Rank\n",
       "78        Bhutan  Southern Asia              79\n",
       "80      Pakistan  Southern Asia              81\n",
       "108   Bangladesh  Southern Asia             109\n",
       "116        India  Southern Asia             117\n",
       "120        Nepal  Southern Asia             121\n",
       "131    Sri Lanka  Southern Asia             132\n",
       "152  Afghanistan  Southern Asia             153"
      ]
     },
     "execution_count": 29,
     "metadata": {},
     "output_type": "execute_result"
    }
   ],
   "source": [
    "#Southern Asia 2015 Happiness rank\n",
    "dfg1=df1[df1['Region']=='Southern Asia']\n",
    "dfG1=dfg1.drop([\"Happiness Score\",\"Economy (GDP per Capita)\",\"Health (Life Expectancy)\",\"Freedom\",\"Trust (Government Corruption)\",\"Generosity\",\"Standard Error\",\"Family\",\"Dystopia Residual\"], axis=1)\n",
    "dfG1"
   ]
  },
  {
   "cell_type": "markdown",
   "metadata": {},
   "source": [
    "India comes somewhere in between with respect to its neighbouring countries when it comes to the happiness rank."
   ]
  },
  {
   "cell_type": "code",
   "execution_count": 34,
   "metadata": {
    "scrolled": false
   },
   "outputs": [
    {
     "data": {
      "text/plain": [
       "<matplotlib.axes._subplots.AxesSubplot at 0xbd28a0c588>"
      ]
     },
     "execution_count": 34,
     "metadata": {},
     "output_type": "execute_result"
    },
    {
     "data": {
      "image/png": "[encoded data removed]",
      "text/plain": [
       "<Figure size 1440x720 with 1 Axes>"
      ]
     },
     "metadata": {
      "needs_background": "light"
     },
     "output_type": "display_data"
    }
   ],
   "source": [
    "data=dfg1.drop([\"Standard Error\",\"Family\",\"Dystopia Residual\",\"Happiness Score\",\"Happiness Rank\"], axis=1)\n",
    "data.set_index(\"Country\", inplace = True)\n",
    "data.plot.bar(figsize=(20,10))"
   ]
  },
  {
   "cell_type": "markdown",
   "metadata": {},
   "source": [
    "Above bar graph shows various elements such as the economy,health,freedom,trust in gov and generosity of the population in India and its neighbouring countries in 2015.Sri Lanka has the largest GDP per capita which shows that it is the largest economy wrt its neighbours.Sri Lanka has the highest life expectancy of the population.Again,population of Sri Lanka has the highest sense of freedom.Bhutan has the highest trust in government against corruption.Bhutanese population is the most generous."
   ]
  },
  {
   "cell_type": "markdown",
   "metadata": {},
   "source": [
    "Now we will study the data for 2016."
   ]
  },
  {
   "cell_type": "code",
   "execution_count": 32,
   "metadata": {
    "scrolled": false
   },
   "outputs": [
    {
     "data": {
      "text/html": [
       "<div>\n",
       "<style scoped>\n",
       "    .dataframe tbody tr th:only-of-type {\n",
       "        vertical-align: middle;\n",
       "    }\n",
       "\n",
       "    .dataframe tbody tr th {\n",
       "        vertical-align: top;\n",
       "    }\n",
       "\n",
       "    .dataframe thead th {\n",
       "        text-align: right;\n",
       "    }\n",
       "</style>\n",
       "<table border=\"1\" class=\"dataframe\">\n",
       "  <thead>\n",
       "    <tr style=\"text-align: right;\">\n",
       "      <th></th>\n",
       "      <th>Country</th>\n",
       "      <th>Region</th>\n",
       "      <th>Happiness Rank</th>\n",
       "    </tr>\n",
       "  </thead>\n",
       "  <tbody>\n",
       "    <tr>\n",
       "      <th>83</th>\n",
       "      <td>Bhutan</td>\n",
       "      <td>Southern Asia</td>\n",
       "      <td>84</td>\n",
       "    </tr>\n",
       "    <tr>\n",
       "      <th>91</th>\n",
       "      <td>Pakistan</td>\n",
       "      <td>Southern Asia</td>\n",
       "      <td>92</td>\n",
       "    </tr>\n",
       "    <tr>\n",
       "      <th>106</th>\n",
       "      <td>Nepal</td>\n",
       "      <td>Southern Asia</td>\n",
       "      <td>107</td>\n",
       "    </tr>\n",
       "    <tr>\n",
       "      <th>109</th>\n",
       "      <td>Bangladesh</td>\n",
       "      <td>Southern Asia</td>\n",
       "      <td>110</td>\n",
       "    </tr>\n",
       "    <tr>\n",
       "      <th>116</th>\n",
       "      <td>Sri Lanka</td>\n",
       "      <td>Southern Asia</td>\n",
       "      <td>117</td>\n",
       "    </tr>\n",
       "    <tr>\n",
       "      <th>117</th>\n",
       "      <td>India</td>\n",
       "      <td>Southern Asia</td>\n",
       "      <td>118</td>\n",
       "    </tr>\n",
       "    <tr>\n",
       "      <th>153</th>\n",
       "      <td>Afghanistan</td>\n",
       "      <td>Southern Asia</td>\n",
       "      <td>154</td>\n",
       "    </tr>\n",
       "  </tbody>\n",
       "</table>\n",
       "</div>"
      ],
      "text/plain": [
       "         Country         Region  Happiness Rank\n",
       "83        Bhutan  Southern Asia              84\n",
       "91      Pakistan  Southern Asia              92\n",
       "106        Nepal  Southern Asia             107\n",
       "109   Bangladesh  Southern Asia             110\n",
       "116    Sri Lanka  Southern Asia             117\n",
       "117        India  Southern Asia             118\n",
       "153  Afghanistan  Southern Asia             154"
      ]
     },
     "execution_count": 32,
     "metadata": {},
     "output_type": "execute_result"
    }
   ],
   "source": [
    "#Southern Asia 2016 Happiness rank\n",
    "dfg2=df2[df2['Region']=='Southern Asia']\n",
    "dfG2=dfg2.drop([\"Happiness Score\",\"Lower Confidence Interval\",\"Upper Confidence Interval\",\"Family\",\"Dystopia Residual\",\"Economy (GDP per Capita)\",\"Health (Life Expectancy)\",\"Freedom\",\"Trust (Government Corruption)\",\"Generosity\"], axis=1)\n",
    "dfG2"
   ]
  },
  {
   "cell_type": "markdown",
   "metadata": {},
   "source": [
    "In 2016, India has dropped down with respect to its neighbours when it comes to happiness."
   ]
  },
  {
   "cell_type": "code",
   "execution_count": 35,
   "metadata": {},
   "outputs": [
    {
     "data": {
      "text/plain": [
       "<matplotlib.axes._subplots.AxesSubplot at 0xbd28a80550>"
      ]
     },
     "execution_count": 35,
     "metadata": {},
     "output_type": "execute_result"
    },
    {
     "data": {
      "image/png": "[encoded data removed]",
      "text/plain": [
       "<Figure size 1440x720 with 1 Axes>"
      ]
     },
     "metadata": {
      "needs_background": "light"
     },
     "output_type": "display_data"
    }
   ],
   "source": [
    "data1=dfg2.drop([\"Family\",\"Dystopia Residual\",\"Happiness Score\",\"Happiness Rank\",\"Lower Confidence Interval\",\"Upper Confidence Interval\"], axis=1)\n",
    "data1.set_index(\"Country\", inplace = True)\n",
    "data1.plot.bar(figsize=(20,10))"
   ]
  },
  {
   "cell_type": "markdown",
   "metadata": {},
   "source": [
    "Once again, the above bar graph shows various elements such as the economy,health,freedom,trust in gov. and generosity of the population in India and its neighbouring countries in 2016.Sri Lanka has the highest GDP per capita.Again Sri Lanka has the highest life expectancy.Sri Lankans have the highest sense of freedom.Bhutanese have the highest trust in government against corruption.Bhutanese are the most generous."
   ]
  },
  {
   "cell_type": "markdown",
   "metadata": {},
   "source": [
    "unable to do similar representation for 2017 as the available data was not segregated according to region(here southern asia)."
   ]
  },
  {
   "cell_type": "markdown",
   "metadata": {},
   "source": [
    "From this assigenment we can realise that various factors such as the economy of the country(GDP per Capita),health of the population(Life Expectancy),Freedom and Trust(Against Government Corruption) are somewhat responsible for the ultimate happiness of the population."
   ]
  }
 ],
 "metadata": {
  "kernelspec": {
   "display_name": "Python 3",
   "language": "python",
   "name": "python3"
  },
  "language_info": {
   "codemirror_mode": {
    "name": "ipython",
    "version": 3
   },
   "file_extension": ".py",
   "mimetype": "text/x-python",
   "name": "python",
   "nbconvert_exporter": "python",
   "pygments_lexer": "ipython3",
   "version": "3.7.3"
  }
 },
 "nbformat": 4,
 "nbformat_minor": 2
}
